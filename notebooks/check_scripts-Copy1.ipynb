{
 "cells": [
  {
   "cell_type": "code",
   "execution_count": 11,
   "id": "dcfed871-ffad-4bf7-907b-ba7dd2a719ae",
   "metadata": {},
   "outputs": [
    {
     "name": "stdout",
     "output_type": "stream",
     "text": [
      "The autoreload extension is already loaded. To reload it, use:\n",
      "  %reload_ext autoreload\n"
     ]
    }
   ],
   "source": [
    "%load_ext autoreload\n",
    "%autoreload 2"
   ]
  },
  {
   "cell_type": "markdown",
   "id": "8170294c-2c3e-450c-b627-2e8d92f8955c",
   "metadata": {},
   "source": [
    "### CNVAR"
   ]
  },
  {
   "cell_type": "code",
   "execution_count": 128,
   "id": "a3aaede4-1cc6-4bf4-8246-957fc2ffe8ed",
   "metadata": {},
   "outputs": [],
   "source": [
    "import os\n",
    "import numpy as np\n",
    "import pandas as pd\n",
    "from tqdm import tqdm\n",
    "import chromATAC as ca\n",
    "from chromATAC.integrated import IntData\n",
    "from functools import reduce\n",
    "import matplotlib.pyplot as plt\n",
    "import seaborn as sns\n",
    "from tqdm import tqdm\n",
    "import matplotlib.gridspec as gridspec\n",
    "import h5py\n",
    "\n",
    "\n",
    "RES = [1e06]\n",
    "\n",
    "def save_collision(omic, layers, coll_key, resolution=RES[0], parent=\"/Users/mossishahi/Code/lupien/IntData/analysis/experiment100/\"):\n",
    "    path = os.path.join(parent, coll_key)\n",
    "    d = omic.layers[resolution][coll_key][tuple(sorted(set(layers)))][coll_key]\n",
    "    if not os.path.exists(path):\n",
    "        os.makedirs(path)\n",
    "    for c, g in d.items():\n",
    "        chromosome_name = ca.info.CHROMOSOMES['names'][c-1]\n",
    "        n_hits = g['n_hits']\n",
    "        n_hits.to_csv(f\"{path}/{chromosome_name}__n_hits.csv\")\n",
    "        spcf_n_hits = g['spcf_n_hits']\n",
    "        spcf_n_hits.to_csv(f\"{path}/{chromosome_name}__spcf_n_hits.csv\")\n",
    "        mat1_spcf = g['mat1_spcf']\n",
    "        mat1_spcf.to_csv(f\"{path}/{chromosome_name}__spcf_CoTE.csv\")\n",
    "        mat2_spcf = g['mat2_spcf']\n",
    "        mat2_spcf.to_csv(f\"{path}/{chromosome_name}__spcf_CNV.csv\")\n",
    "        exp1_spcf = g['exp1_spcf']\n",
    "        exp1_spcf.to_csv(f\"{path}/{chromosome_name}__E_CoTE_spcf_per_hit.csv\")\n",
    "        exp2_spcf = g['exp2_spcf']\n",
    "        exp2_spcf.to_csv(f\"{path}/{chromosome_name}__E_CNV_spcf_per_hit.csv\")\n",
    "        pval_n_hits = g['pval_n_hits']\n",
    "        pval_n_hits.to_csv(f\"{path}/{chromosome_name}__pval_n_hit.csv\")\n",
    "        qval_n_hits = g['qval_n_hits']\n",
    "        qval_n_hits.to_csv(f\"{path}/{chromosome_name}__qval_n_hit.csv\")\n",
    "        pval_e_spcf = g['pval_e_spcf']\n",
    "        pval_e_spcf.to_csv(f\"{path}/{chromosome_name}__pval_e_spcf.csv\")\n",
    "        qval_e_spcf = g['qval_e_spcf']\n",
    "        qval_e_spcf.to_csv(f\"{path}/{chromosome_name}__qval_e_spcf.csv\")\n",
    "        with h5py.File(f\"{path}/{chromosome_name}__hit_spcf.h5\", 'w') as f:\n",
    "            f.create_dataset('array', data=g['hit_spcf'])\n",
    "        with h5py.File(f\"{path}/{chromosome_name}__hit.h5\", 'w') as f:\n",
    "            f.create_dataset('array', data=g['hit_'])\n",
    "\n",
    "def Clustered_TEs(chromosome_layer, **kwargs):\n",
    "    resolution = kwargs.get('resolution')\n",
    "    conditions = {}\n",
    "    annotations = {}\n",
    "    resolution = kwargs.get('resolution')\n",
    "    ann = {0:'TE with no defined CORTE in any chromosome', 1:'TE with defined CORTEs'}\n",
    "    for c in range(1, 25):\n",
    "        idx = np.array([i.split('>')[-1] for i in ind.chr.layers[resolution]['TEs']['index'][c]])\n",
    "        conditions[c] = np.array([int(i in idx) for i in chromosome_layer['index'][c]])\n",
    "        annotations[c] = ann\n",
    "    return conditions, annotations\n",
    "\n",
    "def get_cancertype(chromosome_layer, **kwargs):\n",
    "    conditions = {}\n",
    "    annotations = {}\n",
    "    resolution=kwargs.get('resolution')\n",
    "    ann = {i:v for i, v in enumerate(tcga_met[' Project'].apply(lambda x:x.split('TCGA-')[-1]).unique())}\n",
    "    mapping = {v:i for i, v in enumerate(tcga_met[' Project'].apply(lambda x:x.split('TCGA-')[-1]).unique())}\n",
    "    for c in ca.info.CHROMOSOMES['numericals'].values():\n",
    "        samples = chromosome_layer['index'][c]\n",
    "        conditions[c] = [mapping[i.split('_')[0].split('>')[-1]] for i in ind.chr.layers[resolution]['TCGA']['index'][c]]\n",
    "        annotations[c] = ann\n",
    "    return conditions, annotations\n",
    "    \n",
    "def CTeCore_filter(chromosome_layer, **kwargs):\n",
    "    conditions = {}\n",
    "    annotations = {}    \n",
    "    ann = {0:'TEs with No Significant Difference between #Cores and #Elements in this Chromosome', 1:'TEs with Significant Difference between #Cores and #Elements in this Chromosome'}\n",
    "    index = kwargs.get('index')\n",
    "    test_res = kwargs.get('test_res')\n",
    "    maj = kwargs.get('majority', 3)\n",
    "    for c in range(1, 25):\n",
    "        idx = np.array([i.split('>')[-1] for i in index[test_res[:, c-1]>=maj]])\n",
    "        conditions[c] = np.array([int(i.split('>')[-1] in idx) for i in chromosome_layer['index'][c]])\n",
    "        annotations[c] = ann\n",
    "    return conditions, annotations\n",
    "\n",
    "def GTeCore_filter(genome_layer, **kwargs):\n",
    "    conditions = {}\n",
    "    annotations = {}\n",
    "    ann = {0:'TEs with No Significant Difference between #Cores and #Elements in this Chromosome', 1:'TEs with Significant Difference between #Cores and #Elements in this Chromosome'}\n",
    "    index = kwargs.get('index')\n",
    "    test_res = kwargs.get('test_res')\n",
    "    maj = kwargs.get('majority', 3)\n",
    "    for c in range(1, 25):\n",
    "        idx = np.array([i.split('>')[-1] for i in index[test_res[:, c-1]>=maj]])\n",
    "        conditions[c] = np.array([int(i.split('>')[-1] in idx) for i in genome_layer['index']])\n",
    "        annotations[c] = ann\n",
    "    return conditions, annotations\n",
    "\n",
    "def save_correlation(omic, layers, resolution, c='all', path=\".\", cmp_method='sim'):\n",
    "    metrs = ['score', 'pvalue']\n",
    "    if c=='all':\n",
    "        c=ca.info.CHROMOSOMES['names']\n",
    "    if not isinstance(c, list):\n",
    "        c = [c]\n",
    "    for c in c:\n",
    "        path = os.path.join(path, cmp_method+f'/{c}')\n",
    "        if not os.path.exists(path):\n",
    "            os.makedirs(path)\n",
    "        for m in metrs:\n",
    "            for k, v in omic.layers[resolution]['co'][tuple(sorted(set(layers)))][cmp_method][c][m].items():\n",
    "                v.to_csv(f'{path}/{c}_{k}_{m}.csv')\n",
    "def tcga_mapping(name):\n",
    "    return f\"{tcga_met.iloc[np.where([i in name for i in tcga_met['File Name'].apply(lambda x: x.split('_')[0].split('-')[-1])])[0]][' Project'].apply(lambda x:x.split('TCGA-')[-1]).values[0]}_{name}\"\n",
    "    \n",
    "def TE_family(chromosome_layer, **kwargs):\n",
    "    conditions = {}\n",
    "    annotations = {}    \n",
    "    ann = {i:te.split('>')[-1] for i, te in enumerate(ind.chr.layers[1e06]['TEs']['index'][1])}\n",
    "    con = {te.split('>')[-1]:i for i, te in enumerate(ind.chr.layers[1e06]['TEs']['index'][1])}\n",
    "    for c in range(1, 25):\n",
    "        conditions[c] = np.array([con[i.split('>')[-1]] for i in chromosome_layer['index'][c]])\n",
    "        annotations[c] = ann\n",
    "    return conditions, annotations\n",
    "    \n",
    "def Cnv_cancertype(chromosome_layer, **kwargs):\n",
    "    conditions = {}\n",
    "    annotations = {}\n",
    "    ann = {i:cancer for i, cancer in enumerate(cnv_meta['cancer_type'].unique())}\n",
    "    con =  {cancer:i for i, cancer in enumerate(cnv_meta['cancer_type'].unique())}\n",
    "    for c in tqdm(range(1, 25)):\n",
    "        samples = chromosome_layer['index'][c]\n",
    "        conditions[c] = np.array([con[cnv_meta.iloc[np.where(cnv_meta['name']==sample.split('.bed')[0].split(\">\")[-1])[0]]['cancer_type'].values.item()] for sample in samples if sample.split(\">\")[-1] in cnv_meta['name'].values])\n",
    "        annotations[c] = ann\n",
    "    return conditions, annotations\n",
    "    \n",
    "def cnv_gain(matrix, **kwargs):\n",
    "    m = matrix.copy()\n",
    "    m[m<=2]=0\n",
    "    return m\n",
    "    \n",
    "def cnv_loss(matrix, **kwargs):\n",
    "    m = matrix.copy()\n",
    "    chr = kwargs.get('chr')\n",
    "    m[m>=2]=0\n",
    "    return m\n",
    "    \n",
    "def cote_present(matrix, **kwargs):\n",
    "    index = kwargs.get('index')\n",
    "    df = n_cotes.reindex([i.split('CoTEs>')[-1] for i in index])\n",
    "    v = df['n_cotes'].values\n",
    "    m = matrix/v[:, np.newaxis]\n",
    "    return m\n",
    "    \n",
    "def cnv_class_filter(row, **kwargs):\n",
    "    index_col=kwargs.get('index_col')\n",
    "    return bool(sample_sig.loc[row.iloc[index_col], row.loc['CN']])"
   ]
  },
  {
   "cell_type": "code",
   "execution_count": 13,
   "id": "1e459f72-880d-4e44-97f4-2a78a2299a94",
   "metadata": {},
   "outputs": [],
   "source": [
    "parent_dir = '/Users/mossishahi/Code/lupien/IntData/'"
   ]
  },
  {
   "cell_type": "code",
   "execution_count": 14,
   "id": "8f734ca3-8507-409c-82d7-f9022724802c",
   "metadata": {},
   "outputs": [],
   "source": [
    "te_dir = parent_dir+'/data/V2-TEs/non_olap'"
   ]
  },
  {
   "cell_type": "code",
   "execution_count": 49,
   "id": "19f3afc7-7b7e-4c28-ae92-e7afa02dd12c",
   "metadata": {},
   "outputs": [],
   "source": [
    "cote_dir = parent_dir+'data/V2-TEs/cores1000'"
   ]
  },
  {
   "cell_type": "code",
   "execution_count": 126,
   "id": "02cb92ef-5733-4deb-8677-833fe367ff4a",
   "metadata": {},
   "outputs": [],
   "source": [
    "n_cotes = pd.read_csv(cote_dir+'/n_clusters_per_TE.tsv', sep='\\t', names=['TE', 'n_cotes'])\n",
    "n_cotes['TE'] = n_cotes['TE'].apply(lambda x: x.split('_Merged')[0])\n",
    "n_cotes = n_cotes.set_index('TE')"
   ]
  },
  {
   "cell_type": "code",
   "execution_count": 16,
   "id": "26a2906e-8e7a-49ab-8de0-c4e08576367b",
   "metadata": {},
   "outputs": [
    {
     "name": "stdout",
     "output_type": "stream",
     "text": [
      "loading files from: /Users/mossishahi/Code/lupien/IntData//data/V2-TEs/non_olap\n"
     ]
    },
    {
     "name": "stderr",
     "output_type": "stream",
     "text": [
      "100%|█████████████████████████████████████████████████████████████████████████████████| 977/977 [00:09<00:00, 104.59it/s]\n"
     ]
    },
    {
     "name": "stdout",
     "output_type": "stream",
     "text": [
      "loading files from: /Users/mossishahi/Code/lupien/IntData//data/V2-TEs/non_olap/cores1000\n"
     ]
    },
    {
     "name": "stderr",
     "output_type": "stream",
     "text": [
      "100%|████████████████████████████████████████████████████████████████████████████████| 457/457 [00:00<00:00, 1165.83it/s]\n"
     ]
    }
   ],
   "source": [
    "ind = IntData()\n",
    "ind.add_layer(\"TEs\", input=te_dir, index_mapper=lambda x: x.split(\"_Merged.bed\")[0], resolutions=[1e6])\n",
    "ind.add_layer(\"CoTEs\", input=cote_dir, index_mapper=lambda x: x.split(\"_Merged.bed\")[0], resolutions=[1e06])\n",
    "# ind.chr.add_filter('CoTE', Clustered_TEs, ['TEs'], resolutions=[1e05])"
   ]
  },
  {
   "cell_type": "code",
   "execution_count": null,
   "id": "5f42215d-3d5e-458e-9b9a-6eeb826078be",
   "metadata": {},
   "outputs": [],
   "source": [
    "# ind.add_layer(\"CNVAR\", input=parent_dir+'/data/CNVAR/segments/beds', feature_type='signal', resolutions=[1e05],)\n",
    "cnv_meta = pd.read_csv(parent_dir + \"/data/CNVAR/summary.ascatv3TCGA.penalty70.hg38.tsv\", sep='\\t')\n",
    "cnv_sig = pd.read_csv('cnv_sig_reformed.bed', sep='\\t')\n",
    "cnv_sig = cnv_sig[cnv_sig['sample'].apply(lambda x: x in cnv_meta['name'].values)]\n",
    "cnv_sig['n_copies'] = cnv_sig['n_Major']+cnv_sig['n_Minor']\n",
    "cnv_sig = cnv_sig.iloc[:,1:10]\n",
    "\n",
    "sample_sig = pd.read_excel(parent_dir+'data/CNVAR/sample_signature.xlsx', sheet_name='Pancan sig attributions')\n",
    "sample_sig = sample_sig.set_index('Sample')"
   ]
  },
  {
   "cell_type": "code",
   "execution_count": 82,
   "id": "e3209c38-424b-4e0c-a94f-79a2199dfec2",
   "metadata": {},
   "outputs": [
    {
     "name": "stderr",
     "output_type": "stream",
     "text": [
      "100%|████████████████████████████████████████████████████████████████████████████████| 9498/9498 [03:40<00:00, 43.05it/s]\n",
      "100%|████████████████████████████████████████████████████████████████████████████████████| 24/24 [01:34<00:00,  3.92s/it]\n"
     ]
    }
   ],
   "source": [
    "ind.add_layer(\"CNVAR\", input=cnv_sig, \n",
    "              feature_type='signal', \n",
    "              index_col=3, \n",
    "              feature_column=8, \n",
    "              resolutions=[1e06],\n",
    "              filter_function = cnv_class_filter)\n",
    "\n",
    "ind.chr.add_filter('Cancertype', Cnv_cancertype, ['CNVAR'], resolutions=[1e06])"
   ]
  },
  {
   "cell_type": "code",
   "execution_count": 129,
   "id": "c4d137c6-e0aa-4bc3-9b0b-ef6b5c39d769",
   "metadata": {},
   "outputs": [
    {
     "name": "stderr",
     "output_type": "stream",
     "text": [
      "  8%|██████▊                                                                           | 2/24 [08:18<1:31:24, 249.27s/it]IOStream.flush timed out\n",
      " 96%|█████████████████████████████████████████████████████████████████████████████▋   | 23/24 [1:16:53<03:20, 200.57s/it]\n"
     ]
    },
    {
     "ename": "ValueError",
     "evalue": "need at least one array to concatenate",
     "output_type": "error",
     "traceback": [
      "\u001b[0;31m---------------------------------------------------------------------------\u001b[0m",
      "\u001b[0;31mValueError\u001b[0m                                Traceback (most recent call last)",
      "Cell \u001b[0;32mIn[129], line 4\u001b[0m\n\u001b[1;32m      1\u001b[0m \u001b[38;5;28;01mfor\u001b[39;00m c \u001b[38;5;129;01min\u001b[39;00m tqdm(\n\u001b[1;32m      2\u001b[0m     \u001b[38;5;28mlist\u001b[39m(ca\u001b[38;5;241m.\u001b[39minfo\u001b[38;5;241m.\u001b[39mCHROMOSOMES[\u001b[38;5;124m'\u001b[39m\u001b[38;5;124mnumericals\u001b[39m\u001b[38;5;124m'\u001b[39m]\u001b[38;5;241m.\u001b[39mvalues())\n\u001b[1;32m      3\u001b[0m     ):\n\u001b[0;32m----> 4\u001b[0m     \u001b[43mind\u001b[49m\u001b[38;5;241;43m.\u001b[39;49m\u001b[43mchr\u001b[49m\u001b[38;5;241;43m.\u001b[39;49m\u001b[43mcollide_layers\u001b[49m\u001b[43m(\u001b[49m\u001b[43m[\u001b[49m\u001b[38;5;124;43m'\u001b[39;49m\u001b[38;5;124;43mCoTEs\u001b[39;49m\u001b[38;5;124;43m'\u001b[39;49m\u001b[43m,\u001b[49m\u001b[43m \u001b[49m\u001b[38;5;124;43m'\u001b[39;49m\u001b[38;5;124;43mCNVAR\u001b[39;49m\u001b[38;5;124;43m'\u001b[39;49m\u001b[43m]\u001b[49m\u001b[43m,\u001b[49m\u001b[43m \u001b[49m\u001b[43mresolution\u001b[49m\u001b[38;5;241;43m=\u001b[39;49m\u001b[43mRES\u001b[49m\u001b[43m[\u001b[49m\u001b[38;5;241;43m0\u001b[39;49m\u001b[43m]\u001b[49m\u001b[43m,\u001b[49m\u001b[43m \u001b[49m\u001b[43mgroups\u001b[49m\u001b[38;5;241;43m=\u001b[39;49m\u001b[43m{\u001b[49m\u001b[38;5;124;43m'\u001b[39;49m\u001b[38;5;124;43mCNVAR\u001b[39;49m\u001b[38;5;124;43m'\u001b[39;49m\u001b[43m:\u001b[49m\u001b[43m{\u001b[49m\u001b[38;5;124;43m'\u001b[39;49m\u001b[38;5;124;43mCancertype\u001b[39;49m\u001b[38;5;124;43m'\u001b[39;49m\u001b[43m:\u001b[49m\u001b[38;5;28;43mlist\u001b[39;49m\u001b[43m(\u001b[49m\u001b[43mcnv_meta\u001b[49m\u001b[38;5;241;43m.\u001b[39;49m\u001b[43mcancer_type\u001b[49m\u001b[38;5;241;43m.\u001b[39;49m\u001b[43munique\u001b[49m\u001b[43m(\u001b[49m\u001b[43m)\u001b[49m\u001b[43m)\u001b[49m\u001b[43m}\u001b[49m\u001b[43m}\u001b[49m\u001b[43m,\u001b[49m\u001b[43m \u001b[49m\u001b[43mchrom\u001b[49m\u001b[38;5;241;43m=\u001b[39;49m\u001b[43mc\u001b[49m\u001b[43m,\u001b[49m\u001b[43m \u001b[49m\u001b[43mkernels\u001b[49m\u001b[43m \u001b[49m\u001b[38;5;241;43m=\u001b[39;49m\u001b[43m \u001b[49m\u001b[43m{\u001b[49m\u001b[38;5;124;43m'\u001b[39;49m\u001b[38;5;124;43mCNVAR\u001b[39;49m\u001b[38;5;124;43m'\u001b[39;49m\u001b[43m:\u001b[49m\u001b[43mcnv_gain\u001b[49m\u001b[43m,\u001b[49m\u001b[43m \u001b[49m\u001b[38;5;124;43m'\u001b[39;49m\u001b[38;5;124;43mCoTEs\u001b[39;49m\u001b[38;5;124;43m'\u001b[39;49m\u001b[43m:\u001b[49m\u001b[43mcote_present\u001b[49m\u001b[43m}\u001b[49m\u001b[43m,\u001b[49m\u001b[43m \u001b[49m\u001b[43mcoll_key\u001b[49m\u001b[38;5;241;43m=\u001b[39;49m\u001b[38;5;124;43m'\u001b[39;49m\u001b[38;5;124;43mgain\u001b[39;49m\u001b[38;5;124;43m'\u001b[39;49m\u001b[43m,\u001b[49m\u001b[43m \u001b[49m\u001b[43mclassifier\u001b[49m\u001b[38;5;241;43m=\u001b[39;49m\u001b[38;5;28;43;01mlambda\u001b[39;49;00m\u001b[43m \u001b[49m\u001b[43mx\u001b[49m\u001b[43m:\u001b[49m\u001b[43m \u001b[49m\u001b[38;5;124;43m'\u001b[39;49m\u001b[38;5;124;43mCNVAR\u001b[39;49m\u001b[38;5;124;43m'\u001b[39;49m\u001b[43m \u001b[49m\u001b[38;5;129;43;01min\u001b[39;49;00m\u001b[43m \u001b[49m\u001b[43mx\u001b[49m\u001b[43m,\u001b[49m\u001b[43m \u001b[49m\u001b[43mby\u001b[49m\u001b[38;5;241;43m=\u001b[39;49m\u001b[43m{\u001b[49m\u001b[38;5;124;43m'\u001b[39;49m\u001b[38;5;124;43mCNVAR\u001b[39;49m\u001b[38;5;124;43m'\u001b[39;49m\u001b[43m:\u001b[49m\u001b[38;5;124;43m'\u001b[39;49m\u001b[38;5;124;43mgroup\u001b[39;49m\u001b[38;5;124;43m'\u001b[39;49m\u001b[43m,\u001b[49m\u001b[43m \u001b[49m\u001b[38;5;124;43m'\u001b[39;49m\u001b[38;5;124;43mCoTEs\u001b[39;49m\u001b[38;5;124;43m'\u001b[39;49m\u001b[43m:\u001b[49m\u001b[38;5;124;43m'\u001b[39;49m\u001b[38;5;124;43msample\u001b[39;49m\u001b[38;5;124;43m'\u001b[39;49m\u001b[43m}\u001b[49m\u001b[43m)\u001b[49m\n\u001b[1;32m      5\u001b[0m     ind\u001b[38;5;241m.\u001b[39mchr\u001b[38;5;241m.\u001b[39mcollide_layers([\u001b[38;5;124m'\u001b[39m\u001b[38;5;124mCoTEs\u001b[39m\u001b[38;5;124m'\u001b[39m, \u001b[38;5;124m'\u001b[39m\u001b[38;5;124mCNVAR\u001b[39m\u001b[38;5;124m'\u001b[39m], resolution\u001b[38;5;241m=\u001b[39mRES[\u001b[38;5;241m0\u001b[39m], groups\u001b[38;5;241m=\u001b[39m{\u001b[38;5;124m'\u001b[39m\u001b[38;5;124mCNVAR\u001b[39m\u001b[38;5;124m'\u001b[39m:{\u001b[38;5;124m'\u001b[39m\u001b[38;5;124mCancertype\u001b[39m\u001b[38;5;124m'\u001b[39m:\u001b[38;5;28mlist\u001b[39m(cnv_meta\u001b[38;5;241m.\u001b[39mcancer_type\u001b[38;5;241m.\u001b[39munique())}}, chrom\u001b[38;5;241m=\u001b[39mc, kernels \u001b[38;5;241m=\u001b[39m {\u001b[38;5;124m'\u001b[39m\u001b[38;5;124mCNVAR\u001b[39m\u001b[38;5;124m'\u001b[39m:cnv_loss, \u001b[38;5;124m'\u001b[39m\u001b[38;5;124mCoTEs\u001b[39m\u001b[38;5;124m'\u001b[39m:cote_present}, coll_key\u001b[38;5;241m=\u001b[39m\u001b[38;5;124m'\u001b[39m\u001b[38;5;124mloss\u001b[39m\u001b[38;5;124m'\u001b[39m, classifier\u001b[38;5;241m=\u001b[39m\u001b[38;5;28;01mlambda\u001b[39;00m x: \u001b[38;5;124m'\u001b[39m\u001b[38;5;124mCNVAR\u001b[39m\u001b[38;5;124m'\u001b[39m \u001b[38;5;129;01min\u001b[39;00m x, by\u001b[38;5;241m=\u001b[39m{\u001b[38;5;124m'\u001b[39m\u001b[38;5;124mCNVAR\u001b[39m\u001b[38;5;124m'\u001b[39m:\u001b[38;5;124m'\u001b[39m\u001b[38;5;124mgroup\u001b[39m\u001b[38;5;124m'\u001b[39m, \u001b[38;5;124m'\u001b[39m\u001b[38;5;124mCoTEs\u001b[39m\u001b[38;5;124m'\u001b[39m:\u001b[38;5;124m'\u001b[39m\u001b[38;5;124msample\u001b[39m\u001b[38;5;124m'\u001b[39m})\n\u001b[1;32m      6\u001b[0m     save_collision(ind\u001b[38;5;241m.\u001b[39mchr, [\u001b[38;5;124m'\u001b[39m\u001b[38;5;124mCoTEs\u001b[39m\u001b[38;5;124m'\u001b[39m, \u001b[38;5;124m'\u001b[39m\u001b[38;5;124mCNVAR\u001b[39m\u001b[38;5;124m'\u001b[39m], \u001b[38;5;124m'\u001b[39m\u001b[38;5;124mgain\u001b[39m\u001b[38;5;124m'\u001b[39m, resolution\u001b[38;5;241m=\u001b[39mRES[\u001b[38;5;241m0\u001b[39m])\n",
      "File \u001b[0;32m~/Code/lupien/IntData/IntData/chromATAC/integrated/_base.py:723\u001b[0m, in \u001b[0;36mEpigenomic.collide_layers\u001b[0;34m(self, layers, **kwargs)\u001b[0m\n\u001b[1;32m    721\u001b[0m             matrix\u001b[38;5;241m.\u001b[39mappend(d)\n\u001b[1;32m    722\u001b[0m             indices\u001b[38;5;241m.\u001b[39mappend(\u001b[38;5;124mf\u001b[39m\u001b[38;5;124m'\u001b[39m\u001b[38;5;132;01m{\u001b[39;00mlayer\u001b[38;5;132;01m}\u001b[39;00m\u001b[38;5;124m;\u001b[39m\u001b[38;5;124m'\u001b[39m)\n\u001b[0;32m--> 723\u001b[0m rows, cols \u001b[38;5;241m=\u001b[39m \u001b[43mgroup_signals\u001b[49m\u001b[43m(\u001b[49m\u001b[43mmatrix\u001b[49m\u001b[43m,\u001b[49m\u001b[43m \u001b[49m\u001b[43mindices\u001b[49m\u001b[43m,\u001b[49m\u001b[43m \u001b[49m\u001b[43mclassifier\u001b[49m\u001b[43m)\u001b[49m\n\u001b[1;32m    724\u001b[0m \u001b[38;5;28mself\u001b[39m\u001b[38;5;241m.\u001b[39mlayers[resolution][coll_key][\u001b[38;5;28mtuple\u001b[39m(\u001b[38;5;28msorted\u001b[39m(\u001b[38;5;28mset\u001b[39m(layers)))] \u001b[38;5;241m=\u001b[39m {coll_key:{chrom:collide_matrices(rows, cols, \u001b[38;5;241m*\u001b[39m\u001b[38;5;241m*\u001b[39mkwargs)}}\n",
      "File \u001b[0;32m~/Code/lupien/IntData/IntData/chromATAC/integrated/_utils.py:74\u001b[0m, in \u001b[0;36mgroup_signals\u001b[0;34m(matrices, indices, classifier)\u001b[0m\n\u001b[1;32m     72\u001b[0m             g1\u001b[38;5;241m.\u001b[39mappend(matrices[i])\n\u001b[1;32m     73\u001b[0m             idx1\u001b[38;5;241m.\u001b[39mappend(\u001b[38;5;28mid\u001b[39m)\n\u001b[0;32m---> 74\u001b[0m     \u001b[38;5;28;01mreturn\u001b[39;00m ({\u001b[38;5;124m'\u001b[39m\u001b[38;5;124mdata\u001b[39m\u001b[38;5;124m'\u001b[39m:np\u001b[38;5;241m.\u001b[39mvstack(g1), \u001b[38;5;124m'\u001b[39m\u001b[38;5;124mindex\u001b[39m\u001b[38;5;124m'\u001b[39m:idx1}, {\u001b[38;5;124m'\u001b[39m\u001b[38;5;124mdata\u001b[39m\u001b[38;5;124m'\u001b[39m:\u001b[43mnp\u001b[49m\u001b[38;5;241;43m.\u001b[39;49m\u001b[43mvstack\u001b[49m\u001b[43m(\u001b[49m\u001b[43mg2\u001b[49m\u001b[43m)\u001b[49m, \u001b[38;5;124m'\u001b[39m\u001b[38;5;124mindex\u001b[39m\u001b[38;5;124m'\u001b[39m:idx2})\n\u001b[1;32m     75\u001b[0m \u001b[38;5;28;01melse\u001b[39;00m:\n\u001b[1;32m     76\u001b[0m     \u001b[38;5;28;01mreturn\u001b[39;00m ({\u001b[38;5;124m'\u001b[39m\u001b[38;5;124mdata\u001b[39m\u001b[38;5;124m'\u001b[39m:np\u001b[38;5;241m.\u001b[39mvstack(matrices), \u001b[38;5;124m'\u001b[39m\u001b[38;5;124mindex\u001b[39m\u001b[38;5;124m'\u001b[39m:indices}, {\u001b[38;5;124m'\u001b[39m\u001b[38;5;124mdata\u001b[39m\u001b[38;5;124m'\u001b[39m:np\u001b[38;5;241m.\u001b[39mvstack(matrices), \u001b[38;5;124m'\u001b[39m\u001b[38;5;124mindex\u001b[39m\u001b[38;5;124m'\u001b[39m:indices})\n",
      "File \u001b[0;32m~/miniconda3/envs/shirin/lib/python3.12/site-packages/numpy/core/shape_base.py:289\u001b[0m, in \u001b[0;36mvstack\u001b[0;34m(tup, dtype, casting)\u001b[0m\n\u001b[1;32m    287\u001b[0m \u001b[38;5;28;01mif\u001b[39;00m \u001b[38;5;129;01mnot\u001b[39;00m \u001b[38;5;28misinstance\u001b[39m(arrs, \u001b[38;5;28mlist\u001b[39m):\n\u001b[1;32m    288\u001b[0m     arrs \u001b[38;5;241m=\u001b[39m [arrs]\n\u001b[0;32m--> 289\u001b[0m \u001b[38;5;28;01mreturn\u001b[39;00m \u001b[43m_nx\u001b[49m\u001b[38;5;241;43m.\u001b[39;49m\u001b[43mconcatenate\u001b[49m\u001b[43m(\u001b[49m\u001b[43marrs\u001b[49m\u001b[43m,\u001b[49m\u001b[43m \u001b[49m\u001b[38;5;241;43m0\u001b[39;49m\u001b[43m,\u001b[49m\u001b[43m \u001b[49m\u001b[43mdtype\u001b[49m\u001b[38;5;241;43m=\u001b[39;49m\u001b[43mdtype\u001b[49m\u001b[43m,\u001b[49m\u001b[43m \u001b[49m\u001b[43mcasting\u001b[49m\u001b[38;5;241;43m=\u001b[39;49m\u001b[43mcasting\u001b[49m\u001b[43m)\u001b[49m\n",
      "\u001b[0;31mValueError\u001b[0m: need at least one array to concatenate"
     ]
    }
   ],
   "source": [
    "for c in tqdm(\n",
    "    list(ca.info.CHROMOSOMES['numericals'].values())\n",
    "    ):\n",
    "    ind.chr.collide_layers(['CoTEs', 'CNVAR'], resolution=RES[0], groups={'CNVAR':{'Cancertype':list(cnv_meta.cancer_type.unique())}}, chrom=c, kernels = {'CNVAR':cnv_gain, 'CoTEs':cote_present}, coll_key='gain', classifier=lambda x: 'CNVAR' in x, by={'CNVAR':'group', 'CoTEs':'sample'})\n",
    "    ind.chr.collide_layers(['CoTEs', 'CNVAR'], resolution=RES[0], groups={'CNVAR':{'Cancertype':list(cnv_meta.cancer_type.unique())}}, chrom=c, kernels = {'CNVAR':cnv_loss, 'CoTEs':cote_present}, coll_key='loss', classifier=lambda x: 'CNVAR' in x, by={'CNVAR':'group', 'CoTEs':'sample'})\n",
    "    save_collision(ind.chr, ['CoTEs', 'CNVAR'], 'gain', resolution=RES[0])\n",
    "    save_collision(ind.chr, ['CoTEs', 'CNVAR'], 'loss', resolution=RES[0])"
   ]
  }
 ],
 "metadata": {
  "kernelspec": {
   "display_name": "shirin",
   "language": "python",
   "name": "shirin"
  },
  "language_info": {
   "codemirror_mode": {
    "name": "ipython",
    "version": 3
   },
   "file_extension": ".py",
   "mimetype": "text/x-python",
   "name": "python",
   "nbconvert_exporter": "python",
   "pygments_lexer": "ipython3",
   "version": "3.12.0"
  }
 },
 "nbformat": 4,
 "nbformat_minor": 5
}
