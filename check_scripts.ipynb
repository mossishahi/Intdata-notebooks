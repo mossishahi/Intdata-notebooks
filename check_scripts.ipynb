{
 "cells": [
  {
   "cell_type": "code",
   "execution_count": 1,
   "id": "dcfed871-ffad-4bf7-907b-ba7dd2a719ae",
   "metadata": {},
   "outputs": [],
   "source": [
    "%load_ext autoreload\n",
    "%autoreload 2"
   ]
  },
  {
   "cell_type": "markdown",
   "id": "8170294c-2c3e-450c-b627-2e8d92f8955c",
   "metadata": {},
   "source": [
    "### CNVAR"
   ]
  },
  {
   "cell_type": "code",
   "execution_count": 11,
   "id": "a3aaede4-1cc6-4bf4-8246-957fc2ffe8ed",
   "metadata": {},
   "outputs": [],
   "source": [
    "import os\n",
    "import numpy as np\n",
    "import pandas as pd\n",
    "from tqdm import tqdm\n",
    "import chromATAC as ca\n",
    "from chromATAC.integrated import IntData, save_collision\n",
    "from functools import reduce\n",
    "import matplotlib.pyplot as plt\n",
    "import seaborn as sns\n",
    "from tqdm import tqdm\n",
    "import matplotlib.gridspec as gridspec\n",
    "import h5py\n",
    "\n",
    "\n",
    "RES = [1e03]\n",
    "\n",
    "def Clustered_TEs(chromosome_layer, **kwargs):\n",
    "    resolution = kwargs.get('resolution')\n",
    "    conditions = {}\n",
    "    annotations = {}\n",
    "    resolution = kwargs.get('resolution')\n",
    "    ann = {0:'TE with no defined CORTE in any chromosome', 1:'TE with defined CORTEs'}\n",
    "    for c in range(1, 25):\n",
    "        idx = np.array([i.split('>')[-1] for i in ind.chr.layers[resolution]['TEs']['index'][c]])\n",
    "        conditions[c] = np.array([int(i in idx) for i in chromosome_layer['index'][c]])\n",
    "        annotations[c] = ann\n",
    "    return conditions, annotations\n",
    "\n",
    "def get_cancertype(chromosome_layer, **kwargs):\n",
    "    conditions = {}\n",
    "    annotations = {}\n",
    "    resolution=kwargs.get('resolution')\n",
    "    ann = {i:v for i, v in enumerate(tcga_met[' Project'].apply(lambda x:x.split('TCGA-')[-1]).unique())}\n",
    "    mapping = {v:i for i, v in enumerate(tcga_met[' Project'].apply(lambda x:x.split('TCGA-')[-1]).unique())}\n",
    "    for c in ca.info.CHROMOSOMES['numericals'].values():\n",
    "        samples = chromosome_layer['index'][c]\n",
    "        conditions[c] = [mapping[i.split('_')[0].split('>')[-1]] for i in ind.chr.layers[resolution]['TCGA']['index'][c]]\n",
    "        annotations[c] = ann\n",
    "    return conditions, annotations\n",
    "    \n",
    "def CTeCore_filter(chromosome_layer, **kwargs):\n",
    "    conditions = {}\n",
    "    annotations = {}    \n",
    "    ann = {0:'TEs with No Significant Difference between #Cores and #Elements in this Chromosome', 1:'TEs with Significant Difference between #Cores and #Elements in this Chromosome'}\n",
    "    index = kwargs.get('index')\n",
    "    test_res = kwargs.get('test_res')\n",
    "    maj = kwargs.get('majority', 3)\n",
    "    for c in range(1, 25):\n",
    "        idx = np.array([i.split('>')[-1] for i in index[test_res[:, c-1]>=maj]])\n",
    "        conditions[c] = np.array([int(i.split('>')[-1] in idx) for i in chromosome_layer['index'][c]])\n",
    "        annotations[c] = ann\n",
    "    return conditions, annotations\n",
    "\n",
    "def GTeCore_filter(genome_layer, **kwargs):\n",
    "    conditions = {}\n",
    "    annotations = {}\n",
    "    ann = {0:'TEs with No Significant Difference between #Cores and #Elements in this Chromosome', 1:'TEs with Significant Difference between #Cores and #Elements in this Chromosome'}\n",
    "    index = kwargs.get('index')\n",
    "    test_res = kwargs.get('test_res')\n",
    "    maj = kwargs.get('majority', 3)\n",
    "    for c in range(1, 25):\n",
    "        idx = np.array([i.split('>')[-1] for i in index[test_res[:, c-1]>=maj]])\n",
    "        conditions[c] = np.array([int(i.split('>')[-1] in idx) for i in genome_layer['index']])\n",
    "        annotations[c] = ann\n",
    "    return conditions, annotations\n",
    "\n",
    "def save_correlation(omic, layers, resolution, c='all', path=\".\", cmp_method='sim'):\n",
    "    metrs = ['score', 'pvalue']\n",
    "    if c=='all':\n",
    "        c=ca.info.CHROMOSOMES['names']\n",
    "    if not isinstance(c, list):\n",
    "        c = [c]\n",
    "    for c in c:\n",
    "        path = os.path.join(path, cmp_method+f'/{c}')\n",
    "        if not os.path.exists(path):\n",
    "            os.makedirs(path)\n",
    "        for m in metrs:\n",
    "            for k, v in omic.layers[resolution]['co'][tuple(sorted(set(layers)))][cmp_method][c][m].items():\n",
    "                v.to_csv(f'{path}/{c}_{k}_{m}.csv')\n",
    "def tcga_mapping(name):\n",
    "    return f\"{tcga_met.iloc[np.where([i in name for i in tcga_met['File Name'].apply(lambda x: x.split('_')[0].split('-')[-1])])[0]][' Project'].apply(lambda x:x.split('TCGA-')[-1]).values[0]}_{name}\"\n",
    "    \n",
    "def TE_family(chromosome_layer, **kwargs):\n",
    "    conditions = {}\n",
    "    annotations = {}    \n",
    "    ann = {i:te.split('>')[-1] for i, te in enumerate(ind.chr.layers[1e06]['TEs']['index'][1])}\n",
    "    con = {te.split('>')[-1]:i for i, te in enumerate(ind.chr.layers[1e06]['TEs']['index'][1])}\n",
    "    for c in range(1, 25):\n",
    "        conditions[c] = np.array([con[i.split('>')[-1]] for i in chromosome_layer['index'][c]])\n",
    "        annotations[c] = ann\n",
    "    return conditions, annotations\n",
    "    \n",
    "def Cnv_cancertype(chromosome_layer, **kwargs):\n",
    "    conditions = {}\n",
    "    annotations = {}\n",
    "    ann = {i:cancer for i, cancer in enumerate(cnv_meta['cancer_type'].unique())}\n",
    "    con =  {cancer:i for i, cancer in enumerate(cnv_meta['cancer_type'].unique())}\n",
    "    for c in tqdm(range(1, 25)):\n",
    "        samples = chromosome_layer['index'][c]\n",
    "        conditions[c] = np.array([con[cnv_meta.iloc[np.where(cnv_meta['name']==sample.split('.bed')[0].split(\">\")[-1])[0]]['cancer_type'].values.item()] for sample in samples if sample.split(\">\")[-1] in cnv_meta['name'].values])\n",
    "        annotations[c] = ann\n",
    "    return conditions, annotations\n",
    "        \n",
    "def normalize_cotes(matrix, **kwargs):\n",
    "    index = kwargs.get('index')\n",
    "    df = n_cotes.reindex([i.split('CoTEs>')[-1] for i in index])\n",
    "    v = df['n_cotes'].values\n",
    "    m = matrix/v[:, np.newaxis]\n",
    "    return m\n",
    "    \n",
    "def cnv_class_filter(row, **kwargs):\n",
    "    index_col=kwargs.get('index_col')\n",
    "    return bool(sample_sig.loc[row.iloc[index_col], row.loc['CN']])\n",
    "\n",
    "def tcga_cancertype(chromosome_layer, **kwargs):\n",
    "    conditions = {}\n",
    "    annotations = {}\n",
    "    resolution=kwargs.get('resolution')\n",
    "    ann = {i:v for i, v in enumerate(tcga_meta[' Project'].apply(lambda x:x.split('TCGA-')[-1]).unique())}\n",
    "    mapping = {v:i for i, v in enumerate(tcga_meta[' Project'].apply(lambda x:x.split('TCGA-')[-1]).unique())}\n",
    "    df = tcga_meta.reindex([x.split('_')[0].split('-')[-1] for x in tcga_samples['samples']])\n",
    "    for chr in ca.info.CHROMOSOMES['numericals'].values():\n",
    "        samples = [i.split('>')[-1] for i in chromosome_layer['index'][chr]]\n",
    "        conditions[chr] = df.loc[samples][' Project'].apply(lambda x: mapping[x.split('-')[-1]]).values\n",
    "        annotations[chr] = ann\n",
    "    return conditions, annotations\n",
    "    \n",
    "def tcga_mapping(name):\n",
    "    return f\"{tcga_met.iloc[np.where([i in name for i in tcga_met['File Name'].apply(lambda x: x.split('_')[0].split('-')[-1])])[0]][' Project'].apply(lambda x:x.split('TCGA-')[-1]).values[0]}_{name}\"\n",
    "\n",
    "def tcga_gain(matrix):\n",
    "    return-1 * matrix.copy()\n",
    "\n",
    "def cnv_gain(matrix):\n",
    "    m = matrix.copy()\n",
    "    m[m<=2]=0\n",
    "    # m[m!=0]=1\n",
    "    return m\n",
    "    \n",
    "def cnv_loss(matrix):\n",
    "    m = matrix.copy()\n",
    "    m[m>=2]=0\n",
    "    # m[m!=0]=1\n",
    "    return m"
   ]
  },
  {
   "cell_type": "code",
   "execution_count": 6,
   "id": "dc859adb-3896-49a8-a202-d11515130602",
   "metadata": {},
   "outputs": [],
   "source": [
    "parent_dir = '/Users/mossishahi/Code/lupien/IntData/'\n",
    "\n",
    "te_dir = parent_dir+'/data/V2-TEs/non_olap'\n",
    "\n",
    "cote_dir = parent_dir+'data/V2-TEs/cores1000'"
   ]
  },
  {
   "cell_type": "code",
   "execution_count": 7,
   "id": "02cb92ef-5733-4deb-8677-833fe367ff4a",
   "metadata": {},
   "outputs": [],
   "source": [
    "n_cotes = pd.read_csv(cote_dir+'/n_clusters_per_TE.tsv', sep='\\t', names=['TE', 'n_cotes'])\n",
    "n_cotes['TE'] = n_cotes['TE'].apply(lambda x: x.split('_Merged')[0])\n",
    "n_cotes = n_cotes.set_index('TE')"
   ]
  },
  {
   "cell_type": "code",
   "execution_count": 9,
   "id": "26a2906e-8e7a-49ab-8de0-c4e08576367b",
   "metadata": {},
   "outputs": [
    {
     "name": "stdout",
     "output_type": "stream",
     "text": [
      "loading files from: /Users/mossishahi/Code/lupien/IntData//data/V2-TEs/non_olap\n"
     ]
    },
    {
     "name": "stderr",
     "output_type": "stream",
     "text": [
      "100%|█████████████████████████████████████████████████████████████████████████████████████████████████████████████████████| 975/975 [04:34<00:00,  3.55it/s]\n"
     ]
    },
    {
     "name": "stdout",
     "output_type": "stream",
     "text": [
      "loading files from: /Users/mossishahi/Code/lupien/IntData/data/V2-TEs/cores1000\n"
     ]
    },
    {
     "name": "stderr",
     "output_type": "stream",
     "text": [
      "100%|█████████████████████████████████████████████████████████████████████████████████████████████████████████████████████| 456/456 [02:03<00:00,  3.70it/s]\n"
     ]
    }
   ],
   "source": [
    "ind = IntData()\n",
    "ind.add_layer(\"TEs\", \n",
    "              input=te_dir, \n",
    "              index_mapper=lambda x: x.split(\"_Merged.bed\")[0], \n",
    "              resolutions=RES)\n",
    "ind.add_layer(\"CoTEs\", \n",
    "              input=cote_dir, \n",
    "              index_mapper=lambda x: x.split(\"_Merged.bed\")[0], \n",
    "              resolutions=RES)"
   ]
  },
  {
   "cell_type": "code",
   "execution_count": 10,
   "id": "5f42215d-3d5e-458e-9b9a-6eeb826078be",
   "metadata": {},
   "outputs": [
    {
     "name": "stdout",
     "output_type": "stream",
     "text": [
      "loading files from: /Users/mossishahi/Code/lupien/IntData//data/TCGA/filtered_TCGA\n"
     ]
    },
    {
     "name": "stderr",
     "output_type": "stream",
     "text": [
      "100%|█████████████████████████████████████████████████████████████████████████████████████████████████████████████████████| 434/434 [05:27<00:00,  1.32it/s]\n"
     ]
    }
   ],
   "source": [
    "ind.add_layer(\"TCGA\",  \n",
    "              resolutions=RES, \n",
    "              input=parent_dir+'/data/TCGA/filtered_TCGA', \n",
    "              index_mapper=lambda x: x.split('_')[0].split('-')[-1],\n",
    "             feature_type='signal',\n",
    "             overlap_method='max',\n",
    "             feature_column=4)"
   ]
  },
  {
   "cell_type": "code",
   "execution_count": 22,
   "id": "71152ac7-9bb7-4ff5-b15b-1944b01f5ab4",
   "metadata": {},
   "outputs": [],
   "source": [
    "files = [i.split('_peaks.')[0] for i in os.listdir(parent_dir+'/data/TCGA/filtered_TCGA/') if i.endswith('.bed')]"
   ]
  },
  {
   "cell_type": "code",
   "execution_count": 23,
   "id": "b0c1c229-7190-42a7-b50c-bab797bc6e55",
   "metadata": {},
   "outputs": [],
   "source": [
    "tcga_meta = pd.read_csv(parent_dir+'/data/TCGA/GDC_identifiers_no_duplicates.tsv', sep='\\t')\n",
    "tcga_samples = pd.DataFrame(files, columns=['samples'])\n",
    "tcga_meta['id'] = tcga_meta['File Name'].apply(lambda x: x.split('_')[0].split('-')[-1])\n",
    "tcga_meta = tcga_meta.set_index('id')\n",
    "df=tcga_meta.reindex([x.split('_')[0].split('-')[-1] for x in tcga_samples['samples']])"
   ]
  },
  {
   "cell_type": "code",
   "execution_count": 25,
   "id": "23cf77c0-f10a-421f-98ee-5f009f456099",
   "metadata": {},
   "outputs": [],
   "source": [
    "ind.chr.add_filter('Cancertype', tcga_cancertype, ['TCGA'], resolutions=RES)"
   ]
  },
  {
   "cell_type": "code",
   "execution_count": null,
   "id": "845d7f08-c435-4ca8-a37e-a80960212b62",
   "metadata": {},
   "outputs": [],
   "source": [
    "specificity = False\n",
    "# for c in tqdm(\n",
    "#     list(ca.info.CHROMOSOMES['numericals'].values())\n",
    "#     ):\n",
    "ind.chr.collide_layers(['CoTEs', 'TCGA'], \n",
    "                       resolution=RES[0], \n",
    "                       groups={'TCGA':{'Cancertype':list(tcga_meta[' Project'].apply(lambda x: x.split('TCGA-')[-1]).unique())}}, \n",
    "                       # chrom=c, genome wide\n",
    "                       kernels = {'CoTEs':normalize_cotes}, \n",
    "                       coll_key='gain', \n",
    "                       specificity=specificity,\n",
    "                       classifier=lambda x: 'TCGA' in x, \n",
    "                       by={'TCGA':'group', 'CoTEs':'sample'})\n",
    "ind.chr.collide_layers(['CoTEs', 'TCGA'], \n",
    "                       resolution=RES[0], \n",
    "                       groups={'TCGA':{'Cancertype':list(tcga_meta[' Project'].apply(lambda x: x.split('TCGA-')[-1]).unique())}}, \n",
    "                       # chrom=c, genome wide\n",
    "                       kernels = {'TCGA':tcga_loss, 'CoTEs':normalize_cotes}, \n",
    "                       coll_key='loss',\n",
    "                       specificity=specificity,\n",
    "                       classifier=lambda x: 'TCGA' in x, \n",
    "                       by={'TCGA':'group', 'CoTEs':'sample'})"
   ]
  },
  {
   "cell_type": "code",
   "execution_count": null,
   "id": "8a067b31-43c9-449e-9086-47b8864de366",
   "metadata": {},
   "outputs": [],
   "source": [
    "save_collision(ind.chr,\n",
    "               specificity=False\n",
    "               ['CoTEs', 'TCGA'], \n",
    "               'gain', resolution=RES[0], \n",
    "               parent='/Users/mossishahi/Code/lupien/IntData/analysis/experiment200G-TCGA/')\n",
    "save_collision(ind.chr, \n",
    "               ['CoTEs', 'TCGA'],\n",
    "              specificity=False\n",
    "               'loss', resolution=RES[0], \n",
    "               parent='/Users/mossishahi/Code/lupien/IntData/analysis/experiment200G-TCGA/')"
   ]
  },
  {
   "cell_type": "code",
   "execution_count": null,
   "id": "8c31c5f5-0d4c-4831-aac1-07504823eee5",
   "metadata": {},
   "outputs": [],
   "source": []
  }
 ],
 "metadata": {
  "kernelspec": {
   "display_name": "shirin",
   "language": "python",
   "name": "shirin"
  },
  "language_info": {
   "codemirror_mode": {
    "name": "ipython",
    "version": 3
   },
   "file_extension": ".py",
   "mimetype": "text/x-python",
   "name": "python",
   "nbconvert_exporter": "python",
   "pygments_lexer": "ipython3",
   "version": "3.12.1"
  }
 },
 "nbformat": 4,
 "nbformat_minor": 5
}
